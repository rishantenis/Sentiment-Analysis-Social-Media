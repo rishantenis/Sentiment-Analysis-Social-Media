{
 "cells": [
  {
   "cell_type": "markdown",
   "id": "3d9215b5",
   "metadata": {},
   "source": [
    "### Sentiment-Analysis-Social-Media"
   ]
  },
  {
   "cell_type": "code",
   "execution_count": 1,
   "id": "55d5bba4",
   "metadata": {},
   "outputs": [
    {
     "name": "stderr",
     "output_type": "stream",
     "text": [
      "[nltk_data] Downloading package punkt to\n",
      "[nltk_data]     C:\\Users\\Tenis\\AppData\\Roaming\\nltk_data...\n",
      "[nltk_data]   Package punkt is already up-to-date!\n"
     ]
    },
    {
     "ename": "NameError",
     "evalue": "name 'dfcomment' is not defined",
     "output_type": "error",
     "traceback": [
      "\u001b[1;31m---------------------------------------------------------------------------\u001b[0m",
      "\u001b[1;31mNameError\u001b[0m                                 Traceback (most recent call last)",
      "Cell \u001b[1;32mIn[1], line 7\u001b[0m\n\u001b[0;32m      4\u001b[0m \u001b[38;5;28;01mimport\u001b[39;00m\u001b[38;5;250m \u001b[39m\u001b[38;5;21;01mnltk\u001b[39;00m\n\u001b[0;32m      5\u001b[0m nltk\u001b[38;5;241m.\u001b[39mdownload(\u001b[38;5;124m'\u001b[39m\u001b[38;5;124mpunkt\u001b[39m\u001b[38;5;124m'\u001b[39m)\n\u001b[1;32m----> 7\u001b[0m testtokens \u001b[38;5;241m=\u001b[39m nltk\u001b[38;5;241m.\u001b[39mword_tokenize(\u001b[38;5;28mstr\u001b[39m(\u001b[43mdfcomment\u001b[49m))\n\u001b[0;32m      8\u001b[0m \u001b[38;5;28mprint\u001b[39m(testtokens[:\u001b[38;5;241m15\u001b[39m])\n",
      "\u001b[1;31mNameError\u001b[0m: name 'dfcomment' is not defined"
     ]
    }
   ],
   "source": [
    "# testtokens = nltk.word_tokenize(str(dfcomment))\n",
    "# testtokens[:15]\n",
    "\n",
    "import nltk\n",
    "nltk.download('punkt')\n",
    "\n",
    "testtokens = nltk.word_tokenize(str(dfcomment))\n",
    "print(testtokens[:15])\n"
   ]
  },
  {
   "cell_type": "code",
   "execution_count": null,
   "id": "d67733cd",
   "metadata": {},
   "outputs": [],
   "source": [
    "\n",
    "\n"
   ]
  },
  {
   "cell_type": "code",
   "execution_count": null,
   "metadata": {},
   "outputs": [],
   "source": []
  }
 ],
 "metadata": {
  "kernelspec": {
   "display_name": "Data_Science",
   "language": "python",
   "name": "python3"
  },
  "language_info": {
   "codemirror_mode": {
    "name": "ipython",
    "version": 3
   },
   "file_extension": ".py",
   "mimetype": "text/x-python",
   "name": "python",
   "nbconvert_exporter": "python",
   "pygments_lexer": "ipython3",
   "version": "3.9.23"
  }
 },
 "nbformat": 4,
 "nbformat_minor": 5
}
