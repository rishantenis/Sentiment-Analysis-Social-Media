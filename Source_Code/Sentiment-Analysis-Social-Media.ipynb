{
 "cells": [
  {
   "cell_type": "markdown",
   "id": "3d9215b5",
   "metadata": {},
   "source": [
    "### Sentiment-Analysis-Social-Media"
   ]
  },
  {
   "cell_type": "code",
   "execution_count": null,
   "id": "55d5bba4",
   "metadata": {},
   "outputs": [],
   "source": [
    "# testtokens = nltk.word_tokenize(str(dfcomment))\n",
    "# testtokens[:15]\n",
    "\n",
    "import nltk\n",
    "nltk.download('punkt')\n",
    "\n",
    "testtokens = nltk.word_tokenize(str(dfcomment))\n",
    "print(testtokens[:15])\n"
   ]
  },
  {
   "cell_type": "code",
   "execution_count": null,
   "id": "d67733cd",
   "metadata": {},
   "outputs": [],
   "source": []
  },
  {
   "cell_type": "code",
   "execution_count": null,
   "metadata": {},
   "outputs": [],
   "source": []
  }
 ],
 "metadata": {
  "kernelspec": {
   "display_name": "Data_Science",
   "language": "python",
   "name": "python3"
  },
  "language_info": {
   "name": "python",
   "version": "3.9.23"
  }
 },
 "nbformat": 4,
 "nbformat_minor": 5
}
